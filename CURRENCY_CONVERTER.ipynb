{
  "nbformat": 4,
  "nbformat_minor": 0,
  "metadata": {
    "colab": {
      "provenance": [],
      "authorship_tag": "ABX9TyNorCqABgr5G4odT4hAmg44",
      "include_colab_link": true
    },
    "kernelspec": {
      "name": "python3",
      "display_name": "Python 3"
    },
    "language_info": {
      "name": "python"
    }
  },
  "cells": [
    {
      "cell_type": "markdown",
      "metadata": {
        "id": "view-in-github",
        "colab_type": "text"
      },
      "source": [
        "<a href=\"https://colab.research.google.com/github/manisharan-deep/Micro-IT-Internship-Projects/blob/main/CURRENCY_CONVERTER.ipynb\" target=\"_parent\"><img src=\"https://colab.research.google.com/assets/colab-badge.svg\" alt=\"Open In Colab\"/></a>"
      ]
    },
    {
      "cell_type": "code",
      "metadata": {
        "colab": {
          "resources": {
            "http://localhost:8080/script.js": {
              "data": "",
              "ok": false,
              "headers": [
                [
                  "content-length",
                  "0"
                ]
              ],
              "status": 404,
              "status_text": ""
            },
            "http://localhost:8080/style.css": {
              "data": "",
              "ok": false,
              "headers": [
                [
                  "content-length",
                  "0"
                ]
              ],
              "status": 404,
              "status_text": ""
            }
          },
          "base_uri": "https://localhost:8080/",
          "height": 115
        },
        "id": "ea7dae15",
        "outputId": "a1064f70-1612-4b67-e4de-63d7802aa717"
      },
      "source": [
        "%%html\n",
        "<html lang=\"en\">\n",
        "<head>\n",
        "  <meta charset=\"UTF-8\" />\n",
        "  <meta name=\"viewport\" content=\"width=device-width, initial-scale=1.0\" />\n",
        "  <title>Currency Converter</title>\n",
        "  <link rel=\"stylesheet\" href=\"style.css\" />\n",
        "</head>\n",
        "<body>\n",
        "  <div class=\"converter\">\n",
        "    <h1>Currency Converter</h1>\n",
        "    <div class=\"row\">\n",
        "      <input type=\"number\" id=\"amount\" value=\"1\" min=\"0\" />\n",
        "      <select id=\"from-currency\"></select>\n",
        "      <select id=\"to-currency\"></select>\n",
        "    </div>\n",
        "    <button id=\"convert\">Convert</button>\n",
        "    <div id=\"result\"></div>\n",
        "  </div>\n",
        "  <script src=\"script.js\"></script>\n",
        "</body>\n",
        "</html>"
      ],
      "execution_count": 12,
      "outputs": [
        {
          "output_type": "display_data",
          "data": {
            "text/plain": [
              "<IPython.core.display.HTML object>"
            ],
            "text/html": [
              "<html lang=\"en\">\n",
              "<head>\n",
              "  <meta charset=\"UTF-8\" />\n",
              "  <meta name=\"viewport\" content=\"width=device-width, initial-scale=1.0\" />\n",
              "  <title>Currency Converter</title>\n",
              "  <link rel=\"stylesheet\" href=\"style.css\" />\n",
              "</head>\n",
              "<body>\n",
              "  <div class=\"converter\">\n",
              "    <h1>Currency Converter</h1>\n",
              "    <div class=\"row\">\n",
              "      <input type=\"number\" id=\"amount\" value=\"1\" min=\"0\" />\n",
              "      <select id=\"from-currency\"></select>\n",
              "      <select id=\"to-currency\"></select>\n",
              "    </div>\n",
              "    <button id=\"convert\">Convert</button>\n",
              "    <div id=\"result\"></div>\n",
              "  </div>\n",
              "  <script src=\"script.js\"></script>\n",
              "</body>\n",
              "</html>\n"
            ]
          },
          "metadata": {}
        }
      ]
    },
    {
      "cell_type": "code",
      "metadata": {
        "colab": {
          "base_uri": "https://localhost:8080/",
          "height": 1000
        },
        "id": "0853f9ea",
        "outputId": "7762cc67-4c34-444a-c3ed-658ce66539e0"
      },
      "source": [
        "%%html\n",
        "<style>\n",
        "body { font-family: Arial, sans-serif; display: flex; justify-content: center; align-items: center; height: 100vh; background: #eef2f3; }\n",
        ".converter { background: white; padding: 2rem; border-radius: 8px; box-shadow: 0 4px 12px rgba(0,0,0,0.1); text-align: center; width: 300px; }\n",
        ".converter h1 { margin-bottom: 1rem; }\n",
        ".converter .row { display: flex; gap: 0.5rem; margin-bottom: 1rem; }\n",
        ".converter input, .converter select { flex: 1; padding: 0.5rem; border: 1px solid #ccc; border-radius: 4px; }\n",
        ".converter button { padding: 0.5rem 1rem; border: none; background: #007bff; color: white; cursor: pointer; border-radius: 4px; }\n",
        ".converter button:hover { background: #0056b3; }\n",
        "#result { margin-top: 1rem; font-size: 1.2rem; font-weight: bold; }\n",
        "</style>"
      ],
      "execution_count": 13,
      "outputs": [
        {
          "output_type": "display_data",
          "data": {
            "text/plain": [
              "<IPython.core.display.HTML object>"
            ],
            "text/html": [
              "<style>\n",
              "body { font-family: Arial, sans-serif; display: flex; justify-content: center; align-items: center; height: 100vh; background: #eef2f3; }\n",
              ".converter { background: white; padding: 2rem; border-radius: 8px; box-shadow: 0 4px 12px rgba(0,0,0,0.1); text-align: center; width: 300px; }\n",
              ".converter h1 { margin-bottom: 1rem; }\n",
              ".converter .row { display: flex; gap: 0.5rem; margin-bottom: 1rem; }\n",
              ".converter input, .converter select { flex: 1; padding: 0.5rem; border: 1px solid #ccc; border-radius: 4px; }\n",
              ".converter button { padding: 0.5rem 1rem; border: none; background: #007bff; color: white; cursor: pointer; border-radius: 4px; }\n",
              ".converter button:hover { background: #0056b3; }\n",
              "#result { margin-top: 1rem; font-size: 1.2rem; font-weight: bold; }\n",
              "</style>\n"
            ]
          },
          "metadata": {}
        }
      ]
    },
    {
      "cell_type": "code",
      "metadata": {
        "colab": {
          "base_uri": "https://localhost:8080/",
          "height": 17
        },
        "id": "77e9145d",
        "outputId": "ce935c15-7d82-45d9-dd7a-197dbbfb89d6"
      },
      "source": [
        "%%html\n",
        "<script>\n",
        "const amountEl = document.getElementById('amount');\n",
        "const fromEl = document.getElementById('from-currency');\n",
        "const toEl = document.getElementById('to-currency');\n",
        "const resultEl = document.getElementById('result');\n",
        "const convertBtn = document.getElementById('convert');\n",
        "const API_KEY = 'YOUR_API_KEY_HERE'; // e.g. from currencyapi.com\n",
        "\n",
        "async function getRates(base = 'USD') {\n",
        "  const res = await fetch(`https://api.currencyapi.com/v3/latest?apikey=${API_KEY}&base_currency=${base}`);\n",
        "  const { data } = await res.json();\n",
        "  return data;\n",
        "}\n",
        "\n",
        "async function populateCurrencies() {\n",
        "  const data = await getRates();\n",
        "  const codes = Object.keys(data);\n",
        "  for (let code of codes) {\n",
        "    const opt1 = new Option(code, code);\n",
        "    const opt2 = new Option(code, code);\n",
        "    fromEl.add(opt1);\n",
        "    toEl.add(opt2);\n",
        "  }\n",
        "  fromEl.value = 'USD';\n",
        "  toEl.value = 'INR';\n",
        "}\n",
        "\n",
        "async function convert() {\n",
        "  const amount = parseFloat(amountEl.value) || 1;\n",
        "  const from = fromEl.value;\n",
        "  const to = toEl.value;\n",
        "  const data = await getRates(from);\n",
        "  const rate = data[to]?.value;\n",
        "  if (!rate) {\n",
        "    resultEl.textContent = 'Rate not available.';\n",
        "    return;\n",
        "  }\n",
        "  const converted = (amount * rate).toFixed(4);\n",
        "  resultEl.textContent = `${amount} ${from} = ${converted} ${to}`;\n",
        "}\n",
        "\n",
        "populateCurrencies().then(() => convert());\n",
        "convertBtn.addEventListener('click', convert);\n",
        "</script>"
      ],
      "execution_count": 14,
      "outputs": [
        {
          "output_type": "display_data",
          "data": {
            "text/plain": [
              "<IPython.core.display.HTML object>"
            ],
            "text/html": [
              "<script>\n",
              "const amountEl = document.getElementById('amount');\n",
              "const fromEl = document.getElementById('from-currency');\n",
              "const toEl = document.getElementById('to-currency');\n",
              "const resultEl = document.getElementById('result');\n",
              "const convertBtn = document.getElementById('convert');\n",
              "const API_KEY = 'YOUR_API_KEY_HERE'; // e.g. from currencyapi.com\n",
              "\n",
              "async function getRates(base = 'USD') {\n",
              "  const res = await fetch(`https://api.currencyapi.com/v3/latest?apikey=${API_KEY}&base_currency=${base}`);\n",
              "  const { data } = await res.json();\n",
              "  return data;\n",
              "}\n",
              "\n",
              "async function populateCurrencies() {\n",
              "  const data = await getRates();\n",
              "  const codes = Object.keys(data);\n",
              "  for (let code of codes) {\n",
              "    const opt1 = new Option(code, code);\n",
              "    const opt2 = new Option(code, code);\n",
              "    fromEl.add(opt1);\n",
              "    toEl.add(opt2);\n",
              "  }\n",
              "  fromEl.value = 'USD';\n",
              "  toEl.value = 'INR';\n",
              "}\n",
              "\n",
              "async function convert() {\n",
              "  const amount = parseFloat(amountEl.value) || 1;\n",
              "  const from = fromEl.value;\n",
              "  const to = toEl.value;\n",
              "  const data = await getRates(from);\n",
              "  const rate = data[to]?.value;\n",
              "  if (!rate) {\n",
              "    resultEl.textContent = 'Rate not available.';\n",
              "    return;\n",
              "  }\n",
              "  const converted = (amount * rate).toFixed(4);\n",
              "  resultEl.textContent = `${amount} ${from} = ${converted} ${to}`;\n",
              "}\n",
              "\n",
              "populateCurrencies().then(() => convert());\n",
              "convertBtn.addEventListener('click', convert);\n",
              "</script>\n"
            ]
          },
          "metadata": {}
        }
      ]
    }
  ]
}