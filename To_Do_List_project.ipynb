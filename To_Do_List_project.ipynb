{
  "nbformat": 4,
  "nbformat_minor": 0,
  "metadata": {
    "colab": {
      "provenance": [],
      "authorship_tag": "ABX9TyN/C7v40czMQpnEKSGrvik6",
      "include_colab_link": true
    },
    "kernelspec": {
      "name": "python3",
      "display_name": "Python 3"
    },
    "language_info": {
      "name": "python"
    }
  },
  "cells": [
    {
      "cell_type": "markdown",
      "metadata": {
        "id": "view-in-github",
        "colab_type": "text"
      },
      "source": [
        "<a href=\"https://colab.research.google.com/github/manisharan-deep/Micro-IT-Internship-Projects/blob/main/To_Do_List_project.ipynb\" target=\"_parent\"><img src=\"https://colab.research.google.com/assets/colab-badge.svg\" alt=\"Open In Colab\"/></a>"
      ]
    },
    {
      "cell_type": "code",
      "source": [
        "import tkinter as tk\n",
        "from tkinter import messagebox\n",
        "\n",
        "# Function to add a task\n",
        "def add_task():\n",
        "    task = task_entry.get()\n",
        "    if task:\n",
        "        tasks_listbox.insert(tk.END, task)\n",
        "        task_entry.delete(0, tk.END)\n",
        "    else:\n",
        "        messagebox.showwarning(\"Warning\", \"Please enter a task!\")\n",
        "\n",
        "# Function to remove a selected task\n",
        "def remove_task():\n",
        "    try:\n",
        "        selected_task = tasks_listbox.curselection()[0]\n",
        "        tasks_listbox.delete(selected_task)\n",
        "    except IndexError:\n",
        "        messagebox.showwarning(\"Warning\", \"Please select a task to remove!\")\n",
        "\n",
        "# Function to mark task as complete\n",
        "def mark_complete():\n",
        "    try:\n",
        "        selected_task = tasks_listbox.curselection()[0]\n",
        "        task_text = tasks_listbox.get(selected_task)\n",
        "        tasks_listbox.delete(selected_task)\n",
        "        tasks_listbox.insert(selected_task, f\"[Completed] {task_text}\")\n",
        "    except IndexError:\n",
        "        messagebox.showwarning(\"Warning\", \"Please select a task to mark as complete!\")\n",
        "\n",
        "# Create main window\n",
        "root = tk.Tk()\n",
        "root.title(\"To-Do List\")\n",
        "\n",
        "# Entry field for tasks\n",
        "task_entry = tk.Entry(root, width=40)\n",
        "task_entry.pack(pady=5)\n",
        "\n",
        "# Buttons\n",
        "add_button = tk.Button(root, text=\"Add Task\", command=add_task)\n",
        "add_button.pack()\n",
        "\n",
        "remove_button = tk.Button(root, text=\"Remove Task\", command=remove_task)\n",
        "remove_button.pack()\n",
        "\n",
        "complete_button = tk.Button(root, text=\"Mark Complete\", command=mark_complete)\n",
        "complete_button.pack()\n",
        "\n",
        "# Listbox for displaying tasks\n",
        "tasks_listbox = tk.Listbox(root, width=50, height=10)\n",
        "tasks_listbox.pack(pady=5)\n",
        "\n",
        "# Run the application\n",
        "root.mainloop()\n"
      ],
      "metadata": {
        "colab": {
          "base_uri": "https://localhost:8080/",
          "height": 332
        },
        "id": "FVtgizYyq106",
        "outputId": "1b259c29-c5cb-4319-add0-223c88b0bbc5"
      },
      "execution_count": 6,
      "outputs": [
        {
          "output_type": "error",
          "ename": "TclError",
          "evalue": "no display name and no $DISPLAY environment variable",
          "traceback": [
            "\u001b[0;31m---------------------------------------------------------------------------\u001b[0m",
            "\u001b[0;31mTclError\u001b[0m                                  Traceback (most recent call last)",
            "\u001b[0;32m<ipython-input-6-3043426994>\u001b[0m in \u001b[0;36m<cell line: 0>\u001b[0;34m()\u001b[0m\n\u001b[1;32m     30\u001b[0m \u001b[0;34m\u001b[0m\u001b[0m\n\u001b[1;32m     31\u001b[0m \u001b[0;31m# Create main window\u001b[0m\u001b[0;34m\u001b[0m\u001b[0;34m\u001b[0m\u001b[0m\n\u001b[0;32m---> 32\u001b[0;31m \u001b[0mroot\u001b[0m \u001b[0;34m=\u001b[0m \u001b[0mtk\u001b[0m\u001b[0;34m.\u001b[0m\u001b[0mTk\u001b[0m\u001b[0;34m(\u001b[0m\u001b[0;34m)\u001b[0m\u001b[0;34m\u001b[0m\u001b[0;34m\u001b[0m\u001b[0m\n\u001b[0m\u001b[1;32m     33\u001b[0m \u001b[0mroot\u001b[0m\u001b[0;34m.\u001b[0m\u001b[0mtitle\u001b[0m\u001b[0;34m(\u001b[0m\u001b[0;34m\"To-Do List\"\u001b[0m\u001b[0;34m)\u001b[0m\u001b[0;34m\u001b[0m\u001b[0;34m\u001b[0m\u001b[0m\n\u001b[1;32m     34\u001b[0m \u001b[0;34m\u001b[0m\u001b[0m\n",
            "\u001b[0;32m/usr/lib/python3.11/tkinter/__init__.py\u001b[0m in \u001b[0;36m__init__\u001b[0;34m(self, screenName, baseName, className, useTk, sync, use)\u001b[0m\n\u001b[1;32m   2324\u001b[0m                 \u001b[0mbaseName\u001b[0m \u001b[0;34m=\u001b[0m \u001b[0mbaseName\u001b[0m \u001b[0;34m+\u001b[0m \u001b[0mext\u001b[0m\u001b[0;34m\u001b[0m\u001b[0;34m\u001b[0m\u001b[0m\n\u001b[1;32m   2325\u001b[0m         \u001b[0minteractive\u001b[0m \u001b[0;34m=\u001b[0m \u001b[0;32mFalse\u001b[0m\u001b[0;34m\u001b[0m\u001b[0;34m\u001b[0m\u001b[0m\n\u001b[0;32m-> 2326\u001b[0;31m         \u001b[0mself\u001b[0m\u001b[0;34m.\u001b[0m\u001b[0mtk\u001b[0m \u001b[0;34m=\u001b[0m \u001b[0m_tkinter\u001b[0m\u001b[0;34m.\u001b[0m\u001b[0mcreate\u001b[0m\u001b[0;34m(\u001b[0m\u001b[0mscreenName\u001b[0m\u001b[0;34m,\u001b[0m \u001b[0mbaseName\u001b[0m\u001b[0;34m,\u001b[0m \u001b[0mclassName\u001b[0m\u001b[0;34m,\u001b[0m \u001b[0minteractive\u001b[0m\u001b[0;34m,\u001b[0m \u001b[0mwantobjects\u001b[0m\u001b[0;34m,\u001b[0m \u001b[0museTk\u001b[0m\u001b[0;34m,\u001b[0m \u001b[0msync\u001b[0m\u001b[0;34m,\u001b[0m \u001b[0muse\u001b[0m\u001b[0;34m)\u001b[0m\u001b[0;34m\u001b[0m\u001b[0;34m\u001b[0m\u001b[0m\n\u001b[0m\u001b[1;32m   2327\u001b[0m         \u001b[0;32mif\u001b[0m \u001b[0museTk\u001b[0m\u001b[0;34m:\u001b[0m\u001b[0;34m\u001b[0m\u001b[0;34m\u001b[0m\u001b[0m\n\u001b[1;32m   2328\u001b[0m             \u001b[0mself\u001b[0m\u001b[0;34m.\u001b[0m\u001b[0m_loadtk\u001b[0m\u001b[0;34m(\u001b[0m\u001b[0;34m)\u001b[0m\u001b[0;34m\u001b[0m\u001b[0;34m\u001b[0m\u001b[0m\n",
            "\u001b[0;31mTclError\u001b[0m: no display name and no $DISPLAY environment variable"
          ]
        }
      ]
    }
  ]
}