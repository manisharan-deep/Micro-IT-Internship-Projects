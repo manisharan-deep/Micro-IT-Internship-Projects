{
  "nbformat": 4,
  "nbformat_minor": 0,
  "metadata": {
    "colab": {
      "provenance": [],
      "authorship_tag": "ABX9TyN/C7v40czMQpnEKSGrvik6",
      "include_colab_link": true
    },
    "kernelspec": {
      "name": "python3",
      "display_name": "Python 3"
    },
    "language_info": {
      "name": "python"
    }
  },
  "cells": [
    {
      "cell_type": "markdown",
      "metadata": {
        "id": "view-in-github",
        "colab_type": "text"
      },
      "source": [
        "<a href=\"https://colab.research.google.com/github/manisharan-deep/Micro-IT-Internship-Projects/blob/main/To_Do_List_project.ipynb\" target=\"_parent\"><img src=\"https://colab.research.google.com/assets/colab-badge.svg\" alt=\"Open In Colab\"/></a>"
      ]
    },
    {
      "cell_type": "code",
      "source": [
        "import tkinter as tk\n",
        "from tkinter import messagebox\n",
        "\n",
        "# Function to add a task\n",
        "def add_task():\n",
        "    task = task_entry.get()\n",
        "    if task:\n",
        "        tasks_listbox.insert(tk.END, task)\n",
        "        task_entry.delete(0, tk.END)\n",
        "    else:\n",
        "        messagebox.showwarning(\"Warning\", \"Please enter a task!\")\n",
        "\n",
        "# Function to remove a selected task\n",
        "def remove_task():\n",
        "    try:\n",
        "        selected_task = tasks_listbox.curselection()[0]\n",
        "        tasks_listbox.delete(selected_task)\n",
        "    except IndexError:\n",
        "        messagebox.showwarning(\"Warning\", \"Please select a task to remove!\")\n",
        "\n",
        "# Function to mark task as complete\n",
        "def mark_complete():\n",
        "    try:\n",
        "        selected_task = tasks_listbox.curselection()[0]\n",
        "        task_text = tasks_listbox.get(selected_task)\n",
        "        tasks_listbox.delete(selected_task)\n",
        "        tasks_listbox.insert(selected_task, f\"[Completed] {task_text}\")\n",
        "    except IndexError:\n",
        "        messagebox.showwarning(\"Warning\", \"Please select a task to mark as complete!\")\n",
        "\n",
        "# Create main window\n",
        "root = tk.Tk()\n",
        "root.title(\"To-Do List\")\n",
        "\n",
        "# Entry field for tasks\n",
        "task_entry = tk.Entry(root, width=40)\n",
        "task_entry.pack(pady=5)\n",
        "\n",
        "# Buttons\n",
        "add_button = tk.Button(root, text=\"Add Task\", command=add_task)\n",
        "add_button.pack()\n",
        "\n",
        "remove_button = tk.Button(root, text=\"Remove Task\", command=remove_task)\n",
        "remove_button.pack()\n",
        "\n",
        "complete_button = tk.Button(root, text=\"Mark Complete\", command=mark_complete)\n",
        "complete_button.pack()\n",
        "\n",
        "# Listbox for displaying tasks\n",
        "tasks_listbox = tk.Listbox(root, width=50, height=10)\n",
        "tasks_listbox.pack(pady=5)\n",
        "\n",
        "# Run the application\n",
        "root.mainloop()\n"
      ],
      "metadata": {
        "id": "FVtgizYyq106"
      },
      "execution_count": null,
      "outputs": []
    }
  ]
}